{
  "nbformat": 4,
  "nbformat_minor": 0,
  "metadata": {
    "colab": {
      "provenance": [],
      "collapsed_sections": [],
      "authorship_tag": "ABX9TyPlT13GnJn/mNP70srrhtKZ",
      "include_colab_link": true
    },
    "kernelspec": {
      "name": "python3",
      "display_name": "Python 3"
    },
    "language_info": {
      "name": "python"
    }
  },
  "cells": [
    {
      "cell_type": "markdown",
      "metadata": {
        "id": "view-in-github",
        "colab_type": "text"
      },
      "source": [
        "<a href=\"https://colab.research.google.com/github/Homaoa/Optimization/blob/main/Optimization_a_transportation_model.ipynb\" target=\"_parent\"><img src=\"https://colab.research.google.com/assets/colab-badge.svg\" alt=\"Open In Colab\"/></a>"
      ]
    },
    {
      "cell_type": "markdown",
      "source": [
        "A transportation model with two suppliers and three demand places.\n",
        "The goal is to find the optimized product flow between suppliers and demands while the costs are minimized.\n",
        "Suppliers' capacities, demands, and the costs of transportation for unit are shown in the Figure below."
      ],
      "metadata": {
        "id": "ASNSNr2FgVtB"
      }
    },
    {
      "cell_type": "markdown",
      "source": [
        "![68747470733a2f2f69626d6465636973696f6e6f7074696d697a6174696f6e2e6769746875622e696f2f7475746f7269616c732f6a7570797465722f747261696e696e672f315f382e706e673f7261773d74727565.png](data:image/png;base64,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)"
      ],
      "metadata": {
        "id": "IGuWF83WYw9S"
      }
    },
    {
      "cell_type": "markdown",
      "source": [
        "The mathematical model is as follows:\n",
        "\n",
        "Objective Funcion:\n",
        "    \n",
        "    min 2x13 + 4x15 + 5x24 + 3x25\n",
        "\n",
        "St:\n",
        "\n",
        "    x13 + x15 <= 15\n",
        "    x24 + x25 <= 20\n",
        "\n",
        "    x13 + x23 = 7\n",
        "    x14 + x24 = 10\n",
        "    x15 + x25 = 15\n",
        "\n",
        "    x13 , x15 , x24 , x25 >= 0\n",
        "\n"
      ],
      "metadata": {
        "id": "z8WuQpH_s_xw"
      }
    },
    {
      "cell_type": "code",
      "execution_count": 1,
      "metadata": {
        "colab": {
          "base_uri": "https://localhost:8080/"
        },
        "id": "n0SX7hReX6u6",
        "outputId": "d79e8fec-f78c-493e-b5e8-57efe2db1e13"
      },
      "outputs": [
        {
          "output_type": "stream",
          "name": "stdout",
          "text": [
            "Looking in indexes: https://pypi.org/simple, https://us-python.pkg.dev/colab-wheels/public/simple/\n",
            "Collecting cplex\n",
            "  Downloading cplex-22.1.0.0-cp37-cp37m-manylinux1_x86_64.whl (43.3 MB)\n",
            "\u001b[K     |████████████████████████████████| 43.3 MB 1.4 MB/s \n",
            "\u001b[?25hInstalling collected packages: cplex\n",
            "Successfully installed cplex-22.1.0.0\n"
          ]
        }
      ],
      "source": [
        "import sys\n",
        "try:\n",
        "    import cplex\n",
        "except:\n",
        "    if hasattr(sys, 'real_prefix'):\n",
        "        #we are in a virtual env.\n",
        "        !pip install cplex\n",
        "    else:\n",
        "        !pip install --user cplex"
      ]
    },
    {
      "cell_type": "code",
      "source": [
        "import sys\n",
        "try:\n",
        "    import docplex.mp\n",
        "except:\n",
        "    if hasattr(sys, 'real_prefix'):\n",
        "        #we are in a virtual env.\n",
        "        !pip install docplex\n",
        "    else:\n",
        "        !pip install --user docplex"
      ],
      "metadata": {
        "colab": {
          "base_uri": "https://localhost:8080/"
        },
        "id": "uOxJNgFZv6-o",
        "outputId": "5610b3f8-6abf-4b08-8f19-1b29fd752787"
      },
      "execution_count": 2,
      "outputs": [
        {
          "output_type": "stream",
          "name": "stdout",
          "text": [
            "Looking in indexes: https://pypi.org/simple, https://us-python.pkg.dev/colab-wheels/public/simple/\n",
            "Collecting docplex\n",
            "  Downloading docplex-2.23.222.tar.gz (610 kB)\n",
            "\u001b[K     |████████████████████████████████| 610 kB 2.1 MB/s \n",
            "\u001b[?25hRequirement already satisfied: six in /usr/local/lib/python3.7/dist-packages (from docplex) (1.15.0)\n",
            "Building wheels for collected packages: docplex\n",
            "  Building wheel for docplex (setup.py) ... \u001b[?25l\u001b[?25hdone\n",
            "  Created wheel for docplex: filename=docplex-2.23.222-py3-none-any.whl size=662847 sha256=2819f8afb88fc384144a971181e8a87aab27d0912ccaebcf6ca7eaf5cebb9a21\n",
            "  Stored in directory: /root/.cache/pip/wheels/a7/c9/fb/cee5a89f304e77a39c466e625ac2830434b76eb8384999d116\n",
            "Successfully built docplex\n",
            "Installing collected packages: docplex\n",
            "Successfully installed docplex-2.23.222\n"
          ]
        }
      ]
    },
    {
      "cell_type": "code",
      "source": [
        "from docplex.mp.model import Model\n",
        "tm = Model(name='Transportation') "
      ],
      "metadata": {
        "id": "rbisgeOswLBF"
      },
      "execution_count": 1,
      "outputs": []
    },
    {
      "cell_type": "markdown",
      "source": [
        "Parameters"
      ],
      "metadata": {
        "id": "9z719RT1diGc"
      }
    },
    {
      "cell_type": "code",
      "source": [
        "capacities = {1:15, 2:20}\n",
        "demands = {3:7 , 4:10 , 5:15}\n",
        "costs = {(1,3):2 , (1,5):4 , (2,4):5 , (2,5):3}\n",
        "\n",
        "source = range(1,3)\n",
        "target = range(3,6)"
      ],
      "metadata": {
        "id": "44TyT8FfwDN_"
      },
      "execution_count": 2,
      "outputs": []
    },
    {
      "cell_type": "markdown",
      "source": [
        "Decision Variables"
      ],
      "metadata": {
        "id": "_5f_bVUnwgLs"
      }
    },
    {
      "cell_type": "code",
      "source": [
        "x = {(i,j): tm.continuous_var(name='x_{0}_{1}'.format(i,j)) for i in source for j in target}"
      ],
      "metadata": {
        "id": "oOwaZfWpwk1i"
      },
      "execution_count": 3,
      "outputs": []
    },
    {
      "cell_type": "markdown",
      "source": [
        "Constraints"
      ],
      "metadata": {
        "id": "x0MYjyd-xUQn"
      }
    },
    {
      "cell_type": "code",
      "source": [
        "# Capacity constraints\n",
        "for i in source:\n",
        "    tm.add_constraint(tm.sum(x.get((i,j),0) for j in target) <= capacities[i])\n",
        "    \n",
        "# Demand constraints\n",
        "for j in target:\n",
        "    tm.add_constraint(tm.sum(x.get((i,j),0) for i in source) == demands[j])"
      ],
      "metadata": {
        "id": "AiWkxZvHxWNY"
      },
      "execution_count": 4,
      "outputs": []
    },
    {
      "cell_type": "markdown",
      "source": [
        "Objective Funcion"
      ],
      "metadata": {
        "id": "5BsSiFsG2qch"
      }
    },
    {
      "cell_type": "code",
      "source": [
        "tm.minimize(tm.sum(x.get((i,j),0)*costs.get((i,j), 0) for i in source for j in target))\n",
        "\n",
        "tm.print_information()"
      ],
      "metadata": {
        "colab": {
          "base_uri": "https://localhost:8080/"
        },
        "id": "bKBfp19Wx3Ff",
        "outputId": "cc9a629c-53cd-4dde-9253-a2025d2566db"
      },
      "execution_count": 5,
      "outputs": [
        {
          "output_type": "stream",
          "name": "stdout",
          "text": [
            "Model: Transportation\n",
            " - number of variables: 6\n",
            "   - binary=0, integer=0, continuous=6\n",
            " - number of constraints: 5\n",
            "   - linear=5\n",
            " - parameters: defaults\n",
            " - objective: minimize\n",
            " - problem type is: LP\n"
          ]
        }
      ]
    },
    {
      "cell_type": "markdown",
      "source": [
        "Final Results"
      ],
      "metadata": {
        "id": "w75zRXalziC3"
      }
    },
    {
      "cell_type": "code",
      "source": [
        "tms = tm.solve()\n",
        "assert tms\n",
        "tms.display()"
      ],
      "metadata": {
        "colab": {
          "base_uri": "https://localhost:8080/"
        },
        "id": "3SXP59pkx7-n",
        "outputId": "16ac7c9d-4be4-4ef3-f8d2-98097c99f95d"
      },
      "execution_count": 6,
      "outputs": [
        {
          "output_type": "stream",
          "name": "stdout",
          "text": [
            "solution for: Transportation\n",
            "objective: 47.000\n",
            "x_1_4 = 10.000\n",
            "x_1_5 = 2.000\n",
            "x_2_3 = 7.000\n",
            "x_2_5 = 13.000\n"
          ]
        }
      ]
    }
  ]
}