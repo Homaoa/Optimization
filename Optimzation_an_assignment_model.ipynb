{
  "nbformat": 4,
  "nbformat_minor": 0,
  "metadata": {
    "colab": {
      "provenance": [],
      "authorship_tag": "ABX9TyOj+OFRMkUtekY95MRuj7Xw",
      "include_colab_link": true
    },
    "kernelspec": {
      "name": "python3",
      "display_name": "Python 3"
    },
    "language_info": {
      "name": "python"
    }
  },
  "cells": [
    {
      "cell_type": "markdown",
      "metadata": {
        "id": "view-in-github",
        "colab_type": "text"
      },
      "source": [
        "<a href=\"https://colab.research.google.com/github/Homaoa/Optimization/blob/main/Optimzation_an_assignment_model.ipynb\" target=\"_parent\"><img src=\"https://colab.research.google.com/assets/colab-badge.svg\" alt=\"Open In Colab\"/></a>"
      ]
    },
    {
      "cell_type": "markdown",
      "source": [
        "An assignment model with three workers and three jobs.\n",
        "The goal is to find the optimized assignment of jobs to workers while the costs are minimized.\n",
        "Workers, jobs and costs are shown in the Figure below."
      ],
      "metadata": {
        "id": "YF_8kv3wxhQV"
      }
    },
    {
      "cell_type": "markdown",
      "source": [
        "![assignment.png](data:image/png;base64,iVBORw0KGgoAAAANSUhEUgAAAOMAAAGGCAIAAAAGoqFGAABK3UlEQVR4nO1dB3gUVddeA4QiCCpFkKoIKj+CioQiTRABxYoFRCwEVCwo2EC6QYqCHwjyIdJUhCAqiZ8loLQghBIESUhCMUACJCQkm03bTbb8Z+fs3kxmZ6fP7OzuvM8+PGH2zr135rx77z23nNfkMmAgGGAKdAUMGBAEg6kGggMGUw0EBwymGggOGEw1EBwwmGogOGAw1UBwwGCqgeCAwVQDwQGDqQaCAwZTDQQHhDLV6XQ2ogB/ML7q0qULXF+7di3j+vLly+F63759pdWMo0QDCqJt27Ymkyk7O1tIYofDESijiGCqiYLFYqFf3759O14fOXIk/XplZSVe92WwQMC7wxyk3W5ACKxWK77ky5cvC0kfQKOIZmpmZma1+72Anyb9+syZM2U+UmxsLNwuuUk2IAQZGRloJoFtJLQ7kPihhx5Su2K+EMokaPZ9mYpkQsAYgFwnDWp8fDw9EysF7pdCEkAjDTnAEIK7YlCW8DyFVyNMsHDhQobtEP5eEXCUmBUSwMv3l7PiL1lEm8dgKmllfZnq26DiGyGABPSc21L4559/SAIcD9GLS0xMZNwLJKbnyeA0a56MW8aPHx/mfAWrMczBbSm8CHxF66Dd4cXS06j0kkUwFZ+KUIc8EnKI9P5k6EMaVPpTYSYmWg9C0tNJT1pl/NX6jobRD8ByYYSAf0+ePJkjT/IGIT2phm9zElbAl3Do0CH8ryhLkQT0gZ96L1k0U6GVctH6d6hZQUEB/o2/LaAL/hfvgp8U/te3dYQbXbShkonyQEspQGL4L7w4F22MAb8NzIH8SOBevALvms5s1jyx/sQqpLnl6MJCG+Ac4xtAL1m4pQh3SQIydaDeSxbNVKQLnY6EqdDIk58dtILwFfCD8aulZwXP6aL9CuFekgAvQinQMOO3pIXmzhPfMmue2AyDPUhv9RAFNEMYgvDMJdJS9AT4Vgm51XvJIpiKo2moLvGuoLVz0QasLp8GFZ8Nm0Y6sFHEMRD23YzxEOnQGT9iF+1nCiOBmTTQx7WseZK64W+ATuLwBLoT2DULtxQanYAxJlTvJYtgKs5QwL8Mh4k+1Yp/4E/Q5X1+0msT4ONh3423MObzTD4gXzGG/Axw5Ol7r+S53tAAtn9oHeGWYvTjjDbVpdpLFsFUfBjS2mH/7qIxldGgury/WuLoIMgYFx6PkJuegPRE8BMHtuHfpFciAwP4vZbSAP0LjrdY88RJExc13UafXBM44x0CgB4ZWEUaOWI1ZKFwS9E9fWIp7NxVfcmimYoEoncTZDCAIA2qq3rfQUAIDTeiJ8SY3if9O85uYHriP2Ke8N7pt6A3gBNVvnki3VnrzDtfGxogz0uYij4ruSLQUgym4mvHF6v2SxbBVPqvBGcACMicEWOggwMGE20NlnhI2CngT5nxJPjWyO+bNKv4wyV+gO98GXqgvnkSq5BqkxaF4UCEKsjz4msHDqHJyO9foKXobCZTh/gO1X7JIphK1nwZC6cu72jGt0701QFIQwhNGjy8Qiab6LmR0QVJRrhL8qQ7XuQNsuZJnymk3xU+U1ToEDPgyypuSxECkP/SOzdVX7IUpvruu0Fu+TLYRY1dGI483XnEZ2M8CV6kD27w50sabEjPyJP+C2HNE1oRXJ6l2wOGWcIfP9gBb4Dx0ujjNJcwS0GLS6csw1tS9SVrtCkGngFqrOzEEHBRbJ7QcqD7xVgADB+g08PBHiGW4s5BpZds7KkzEBwwmGogOGAw1UBwwGCqgeCAwVQDwQGDqQaCAwZTDQQHDKYaCA4YTDUQHDCYaiA4YDDVQHDAYKqB4IDBVAPBAYOpBoIDBlMNBAeCkqk2pz0rul550hrGdafLVbZrtXliO/yUJSymrhkIBWjB1POF1jVJFyduyRi+/Eif+fujZu2FD/wB/4WL8BUkEJVh+psdCsdFlu2qdvoKKJk2tgFcr/6BBwzTTdPKQnEjioWKTLVVOjb/nfvYf//uNj2R9wPJIDHcwpOpvfxUdH1kIYOpl3euoa5H2K+kw38d5qyc6DpwpTRulnrPGPJQxYiSoBZT447nDVx0EB+gV8xfr25K+/rgpcPnLZeLbdZKB3zgD/gvXISvIAGmhFvgRn95Qs9Oby8ZTD390RDGxcKUbXDFPPUOlZ4x5KGGESVDeabml9he+iYVKz106eHvDueUV9i5b4EEkAwS411wO2TCSAO/U2wji1c8X7wi2pep6R6mLiNXzBl7DKZKg0pGlAOFmfp3lqXfgiSoaO+P98FPze4Q4dBAYrgFboTbIZOj2cWMBDkxg+y57lO/Bcnxvky96On9TY5i99FZR2ne2eh6Ru8vAaoaUTKUZOqfGVd6zNkLVXz6q2MXzBLH13Aj3A6ZQFaQIWua/P2bfJkKSJnSg82jMiACmhlRLBQz5N4zhVGz3SOVt388WWmXNTcEt0MmkBVkCNn6JmBlqrOiGBtRBlOdFWY5lQkraGlEsVCGqScvl/b8yN3gT/n5tCIZAiAryBCyhcwZX7EyFecEzBNbuuwl7v/byy9MiTImqoRDYyOKhQJMLbFWDlniHkdP2JSmYNh8yAoyhGwhcyiC/pUvUx2l+R5SOqs6LKAntrKO4iylahWq0N6IYqEAU/F3M+zz5DIbj3soFpAhZOv7K+dianWcXvSUwVQh0N6IYiGXqQfPFkElus/cm5arSownyBYyhyKgIHLRl6kVxbleplZrD46PvcZgKi8CYkSxkMvUx1cehRos+OOszHw4AJlDEVAQueLLVLvLmUV19MUrniMXi+Lm46qVy15Nl9AAAwExoljIYmpCWj4U33f+fsW7DDogcygCCoLi8AqrR2Wl5vmRmpbFT+AyAXzKk9aqV7cQQKCMKBaymPrM6n+g7JV/CRKHlQMoAgqC4vC/JdQyqS8F7VfOZFWbqIqozD6odt2CHYEyolhIZ2rG5VKcgJDp0wlBsbUSJ1AyhEx2OKxuv98RdtIoWVmih+P6NaIPpDN1/vZMKPX9uFOScxAFKAiKg0K1KS4Y8eSTT/bv33/Xrl3CbwkiI0pnKu5F2HNa9PKDtACwUBDulpBwb5gAmIqRoIXzVbIRpUGOESUyNavQ6t4JNnef2DU3X/kigYCCoDgoNEvlHbvBC8JUgXyVZkQiqOIrXsULOUaUyNSt/+RBeS98nSLqLqK/IYGpACgOCoWiJdwbDmAwlZevEozIECCXUEnJRpTI1Fm/nYHyPtt5TvgtREBWMlOhOCgUipZwbziAlakcfJVgRKJKhZAg3yPZiBKZittsf0kVNDdGlIpkMhWKwy26Eu4NB3AwlZWvooyIQHEVGMKhlIoEOXTJRpTIVFzJPX6Bf58s0QbCJ5TDVCgO16Yl3BsO4GUqg6/CjYgg2pNr164lMnpiRaYlG1EiU/vMc6835BXzHz8gDSr2FJKZKsQGBoSjX79+PefsEWhEBJEjtVgshLUMqVVeQHFQaJ/5+0UTQOwNCNwWLmT9DSU3yd/4eAZTAw5gatSsRIFGpJuA6OMRYUdRuwShODwLIJoAYm9AdJvhfkiHyI2MxHOU1vtDce7TZDMS+ZOGJQT2/sBR7P1FGZH0jfHx8XiF6KbSdUN5IdmIqrepdMhkquSfY5iAl6mEowhRRiQyk6QFJdZkVSH1B63b1D7zhY5T6ZDJVMlDnDABB1MZHEUINyIZtpkoFyqbAvxBLtJFbrmh9ThVrNuIkMlUw/fnBitTWTmKEG5EoqDuD3RFam5o7ftLmIpzyWaqMZ/KDQZTOTiKEG5Euv60PwjczqH1fKqE5Q2XbKbi8sZsY43KDwhTeTmKEGhE0suzTkiRqSu6xDoHJBtR03V/mUw11v25AUwVyFGEQCOS3Rqsg1EysdqoUSMhhWq97i9tG44cppJtONlSA3uEPMTupBZoRF4i4hKrELPKMaKm+1PlMHXcpGmdXvvO2J+qLHiNSLakQC/Pm+ahhx7iLi4A+1NdkraLE6ZmZ4s7tbNx40a4K6LO1WNmrxJZTQNc4DUi2Y0KvTxHPsSv4l6vCsyefy2P4OTmFzbsNABexFVXXTVjxgxRpwbsualFMYPyx9V0h1SfeldFJnPO2WkzWxaPwIDrlsWPO0pzFK27rqGlEUsCdY7KpfmxxjtGvFWjRg3g6/3335+fL2iC7PKmaT4x1SItix8mCSpz030T2K+kqfYoukPon011aX5UfFt6wc6dO5s2bQpkbd26Ne823gpzlid6dcIiKraKszxpI16pyNyDaTDummXxI+7oFi5ndswQ1lgsIQztjSgth+CLoQJj3J49ewJZa9euvWYNUz6FjpyE5VRUlVH0i5lr34aLJbHuqUGMG8CIZoXctedKj/YRdAj9GCquAIU0qqioePnll3EIP3bsWKuVfcqjYNOH+eMibSlx9IsnKaaap3aGv81ULBZkLcGFuAW+F0MbYRGXyhW4MHFff/113bp1gax333332bNC2wOPcEWC+1wlSgNUZh+oVmhOehiqA4R+rD+X+qE3hy71G3rz2LFjN998M5D1+uuvT0hI4M3Tsgu1ADzR/5C1jtJL9DQY4LIopq8iTxEsCKARBUJfMal///13m82zCU1gOOPCwsKHHnrIPdsaETFv3jyOt2ze73GnSM9+ltJgYQxJkak4PAgrhH5MaoT8EPGTJk0Cws2aNUtsiHhg58yZM4GpcPvw4cPNZpbA/uaEz5GmxSueJRex92dEVw3PNhWx6c/DbR754JrOD3ToNcyfEaFpGDNmDG9WOo3zj5Apu7Fjxw6gWt269YYvTOgmXnYD2uPrrrsOcmjfvv0//1SbtMulIlNTrem79Oue3t9cbV8PBg0Ok3Eq/MjhXS1btuypp5664YYbyFJTm8emsxpx586drVq1ql+/Pne2utZOQciUMuo9zL1v7eqOfaVJGWVmZt51112QQ7169b799lsXNSmKIqusUSyzqHkAVlXLsoRPxZYeLLDb7YcOHVq0aNHDDz+Mv20GGjdp1ufjRIYRYVT2zjvvXHXVVe4EjRv7zTwo9KgQcuTh7njrp6tq14N38e3mH6WVXl5eDn0TvvGJE6ed+iDKs+yUe8w3sUcEcOIN9IvplKiVr9hVUAN4lpiYOHfu3AceeKBBgwa+7KQDBmAMIy6I3dm58x0kQcuWLX2LCDKNPwJ/kpt5fJKb4z74GHtwf7OkQrBy5cratWsveKiFd43qU5ez0llhIR+Xs8JFqa/nV29uSzxeV4TLqeRbDiAcDsczzzxTp04dbnYSREZG5uR4dj64jfjpgeaD37iqZi16mnY33RwKuqkE0mSMKysrO3XqBK9jxowZcko/lPIPm5Ca50Pa0Xyvp2Weepd5ancvs0VHsdMzDhw4gBPPQjB69GhyY3Z29n33DfRNU7PpzdxGVOMptBBrPFdQzi0NDwno6Xft2mVyu1Z1pR0NQDi966KsH8vi4SSlNXkr/avypK8lF6pbbN68GYeYvABa4y2xsbHXXnsta5p6rW7nNaLi0Kms6PPPPw9v5JFHHpGZD3gP7777LhoJ3NviYn8DfKc72rqzMoQ3psTExPDSNCoqClKazebnnnuOI1mfPn20r79OmXrx4sVrrrkGXsrWrVvl5/bTTz9hbrfffnt6err8DIMU3PwDbNiwYffu3W3atOFOdv/992tfeZ0yFfD555/DS7n55pvluFYEJ0+exOEveL4//PCD/AyDEfAme/fu7Y9/zZs3h/4HF1C4MXz4cP7ClIZ+mQquVefOneG9TJs2TZEMS0pKwAvGdz1lyhQYGCiSbRDh33//hV7FH/9atmzJy1EEjKO0r7zWTOU9K2J3OUti3bv13Aleb37kUdOzDWvCK1aqAosWLapZsya87gEDBgiPURMCSExMbNKkCTw49C0NGzZkkC8yMvLgwYMjR44U4ngJWU1VHJoylfesiLOilGjzVX1eMn356IMKVgNshiuH0IokJSUpmLNu8c0339SuXRseeejQoRaLZdu2bfhzJSCTU0eOHIFhKDdThcf2URDaMVXIWREU5DVPbOmscO8yIfNHe/ubfvxR4qoVK8Bju/fee7EtWblypYI56w1Op3PGjBnIsNdff52Meb744gs6+aBBpd8FVMZ1aVa8+eab2j+IdkzlPSvi8OhJR7icVS5U2qKn4eKlJ03t2rUrL1dyxg7GwWA50p2VlZUpmLlOAG8MxpTwgDVq1PA9sD9x4kR8/B49evjeW1BQUK9ePVamvvfee5pUvxq0YyrvWRFkLWN9yO5yOK2FHw27E17Q1KlTFa/Vxo0br776asi8a9euZ86EVMSrS5cude/eHR4NRqWs28yhfR02bBgk+O6773y/feedd+CrQYMGLVmypHHjxnSmzpw5U/Xa+yDAvj/9rIh3B36OPTfNfQB/6j1FMQNxZ8nevXthpF+nTh01yJSSknLLLbeAAa699tpffvlF8fwDgmPHjrVu3RoeCvqi1FS/gfVgzPrAAw9UVFQwrmdnZ9etWxfeOR4ALioqmjZtGv6kAfPmzVO39mwIJFMZZ0VwX7PvpyT2Hfh27Nix8I4efFBJ14oALPHoo4+aqMgXc+bMUfB4RkDwv//9r379+vA4vXv35p3fYA3zgWuEo0ZVG6pBI/3yyy+DK/bZZ58pWV1hCBhTfc+KEKaap97lKL7grCg2U6dH8ABJbm4uzq1s2bJFjfoAO2NiYjDyBTjIYsVr9APorHH2/tlnn5W2aAKdDLyHWrVqsU4Opqenk70BWiIwTOU4KwKOP33x/Ry1XR8HsitWrDBRUeXV8362b9+OYzLoNP/++2+VSlEJ4CO+8sor2DPMnj1bcj44eAV/S8G6yUcAmOrvrAgytTRuJv2i96yIm6ngAYDfAy/xgw8+UK9658+fv+eee0zUZq5169apV5CyKCwsBO8Hqg2jeYFBd1mRmJgImcDgAToxBasnH5oylfusSAq12b4kdhL9ot1WRD8pum/fPmgwateufeqUipL00GnisBgwYcIEclxWtwBH89Zbb4XaNmvWTOZaRq9evSCfjz76SKm6KQVNmXqa4qK/syK4qZlxKDSfCnNSFFO1zWzcuHE4lFS7tmvWrMGt8lFRUWKD6GoJaAVxxNK5c+dz58TFs2fg+++/h3yaNm3qf3tkwKAdUy3J8dxnRex2q7e59fS5juIcPD1iTd5E8gFnFuVlN2/erHadk5OTUYyhSZMmf/75p9rFScD69esjIyNxVsRiscjJCgZX2DD/97//Vap6CkIjpkK/L+6syMQ2lsUjGN8SrFy5El5omzZtuMPPKoIrV6488MADuMzzySefqF2ccDidzmnTppHlTVExZVmBDmv79u19p1f1AO2YKvCsSEXG7nzaV8UrxkDbysgNrIKr0tos60FxH374IW4yevzxx2U2XYqgrKxsxIgRUJ+aNWsCw+RnCL/5Fi1aQIa63byr1/2p7rMiFRxnRfbv3w/UgY7v5MmT2tTo559/xlFHx44dOVZ9NMDFixdxdqJhw4bbtm1TJM85c+ZAhpCtblc99MpUAcDAlNA1a1bi6dOn77jjDpzEkTMTJAdHjx5t1aoV1OGmm246ceKEInnm5+fjqsqOHTsUyVANBDFT8/Ly8PDkpk2b+FMrBOh2R48ejaPDyZMnV1aqHh6fjvj4eFwmvffee+Hxlcr2jTfeMAlQPgksgpipgFWrVsErhjZGA9eKjqVLl9aq5Q7W0LdvXxLHQW0sXrwYl0mfe+45Bad4MzMzYRAFOR87xjJ1qB8EN1PB17n77rvBeO+8847GRe/bt+/GG2+EosER2btXXSF3aLnHjx+Py6SKz8nj2bIXX3xR2WwVR3Az1UUFCEHXSvvj0bm5uf379wczQ/u6bNkylUopLCwcOHAgru4qPoUMo15c8xMe1DtQCHqmAl599VVTgA6h2+32t99+G4eto0aNUnwQcurUqY4dO0LmN9xwA+MAiSLAqeJ3332XP2mgEQpMBdf1+uuv97d3XQN8//336Oh07txZwQ0Ju3fvxufq0qXL+fPnlcqWICEhAae6rlxRJsSpqggFpgJWr15tos6alpSUBKQCJ06cwKVIMHxcXBz/DXxYu3YtLpMOHz5cjVV4p9OJQ/yFC4MjXFyIMBVcK5wMnzRpEn9qdWCxWHDdCEZ+06dPl7y8CRyaMmUKjijeeust+cukrPj2228hf3AKg+WoY4gw1UUpIkdERIBzk5YWSC3JBQsWiJXMpANGuo8//jguk6p3vLuiogI1Z6DlVqkIxRE6TAW89tpr8PbBUw5sNYhkZps2bXglM+m4cOEC9siNGjX6448/1Kvhf/7zHyjltttuC6KQRyHFVPAMcKcmBvkPILKzs3v06GGiJDNhDC3kliNHjmBkKGjtVJ1xg1Ev/pD+97//qVeK4ggpprooRwSHXwHfC2yz2fBUk4lTMhOxdetWPKPct29fCWMGUfjwww/x2KqqpSiOUGMquCNRUVHoiwS6Lm4Ikcz89NNPcZn0+eefV/skTE5ODv4k/vrrL1ULUhyhxlQXtVEfXavA7s0jOHr06E033WRik8wEzyY6OhqnC+bOnatBZXBV9oknntCgLGURgkx1eTcHDRgwINAV8aCwsPDBBx80UZKZH3/8Me4BLSgogBqaKPUslYIYMHDy5MmaNWvWqFFDqe2CWiI0mQokwFih0PkGui4eADtnzZqFvfzDDz8M/lOHDh1MVCRoUfMDcvDYY49BiTB61qY4ZRGaTHVRR+Fwo5MeDpMQ/Pbbbyirh3OuXbt21ezU64EDB3Cby4ULF7QpUVmELFOhDevZs6cpQME+ObBw4UI8kgUdscAJLEWA276UCkWvPUKWqS5qhhKaLiBESkpKoOviBvx43n//fZy3+r//+z9yrFSDs6Dx8fHo0rEKdQcFQpmpLm8w2379+gW6Iu5lUgwnWKtWrVWrVrmoU8sY0bxXr16q9sgOhwO1PZYsWaJeKWojxJkKTjeuxwQ2wlR2djYe+7722mvpp+pg7IjH95o1a7Z7926VSl+zZg0u7SqilxQohDhTXZQYA+5ELioqCkgFkpOT8RzLLbfckpGRwfg2Ly8Pt/SrFJcU2IkhfwO1eVcphD5TYXSIcmGvv/669qX/+OOPGC0fRiD+Nizb7XYYvwqQzJSCBQsW4F5s3R7kF4jQZ6qLWiVC1+qff/7Rslzi5r/44ou8bpMakpkw+MFJsd9++02RDAOIsGAqAE87aSZNC7wEduIy6fz58wXeBWMDZSUzUVUiICfMFEe4MNVsNoPXAmYD90LtsqCXh74el0nFymjRJTNhSCBn/yhDVSLYES5MBWzYsAG9bFXnFKFdRCWWFi1agC8lLZPFixejBt99990nWTKTVVUieBFGTAWgrt+ECRNUyn/Hjh0YgOiuu+6CJk1OVnv27JEjmZmamoqqEqdPn5ZTDf0gvJgKHlUNCuBjKZ75qlWrMATQo48+qsjBf7pkptjou7h1S28ryXIQXkwFTJ48GXe8Kzhr43A43n33XRxcwh8KniYFzwx3MOI+a4HnSHWrKiEHYcfUoqIi7FW/+uorRTIEH+iRRx7BZVKVdpx89913RDJTiIA8bs3RoaqEHIQdU12UVqqJ0l0oLCyUmVVWVhYKD1133XU7d+5UonbsOH78OJHM/PXXXzlSoqoEOI4BP0mmLMKRqYC+ffvK31N8+PDh5s2bQz4dOnTQIDQ29AbYeKMwGuvoReeqEnIQpkyFJgrPaUgW8vvhhx9wmXTAgAGaSVcCO+fOnYsHB4YNG+Zbrs5VJeQgTJkKQB8IhnQSXKt58+bhMunYsWO154Q/yUz9q0rIQfgy1WKxYN/95ZdfCr/LZrPhjDo0bAGMPXbu3DlfyUyiKhGoWqmK8GUqIDY21kSpognsvvPz83GAC5741q1b1a4eN6xWK57ABrz66quXLl3CDS56VpWQg7Bmqst7umj8+PG8KdPT0zHq2I033njkyBEN6iYEq1evRslMnHrTuaqEHIQ7U1NTU8G1gq6ce43+jz/+QDGqu+++W29nO6HmGNAKhs547iUkEe5MBeApvKioKH+u1cqVK3G/yOOPP66xSItAYCBLPJwdLJF7xcJgqjv2HZ4e8Z2DdDgcuPqKe/D0uW0e3H9UlXjzzTd1JZmpLAymuoHrOo0bN6YfIAEGDx8+HDeI6DkiLl1VQj+SmYrDYKoH9913HxgYvGn87/nz57t06YJn5NU7NSofvqoSepDMVAMGUz04ceJErVq1wLU6dOjQwYMH0ZWGlklBLRTF4U9VAgbTRDJz0qRJGktmqgSDqVVAHYj27dtjxNOBAwfK38KiKvAUgz9Vic8//1x7yUz1YDC1CiUlJSjJDBg3bpzOmyIhqhL79u3D9VX4N+hC+zJgMNUDm802ZswYpOnVV1+tdghz+UBVidtvv537VCC0pnj8ENpXaGU1q57iMJjqRl5eHp4DAS8E95u+9NJLga4UFywWCwaIFaIqAZ0DmWt79tln9TklzAuDqW5fCqObt2rV6ujRo+np6ZGRkVddddWBAwcCXTW/kKAqsXnzZjUkMzWDHplqc9qzouuVJ9EO5jvtxeveKImd6vuB684K6X7Ptm3bcGx6zz33XLx4ES8iD7p166aSvp5MSFaVoEtmxsfHq1Q9laBHpqa/2aFwXGTZruXkSkVxLlzx93GYz0graMWKFbhMOmLECLr7DK4VhuBTTwtdDuSoSsCwAW7ETQLwg+T+KW7fvl0noWddumOqvfxUdH3kH52p8DqtyT/YUn6t+mTs8jI1wuUQPfACC7311ls4dJs6darvMulPP/2Ep6NgCCv3oRQFUZWQI7q5cOFCDN8+ePBgf77juXPnGjduPHr0aMmlKAsdMbVs12p6S0lnqi8qzFmYzH5FtAwItCt4HB7Go+vXr/eXDKwIaV544QWx+asK3Izy8ssvy8xnx44dRDLz8OHDjG+tVivu1IZfhZDTsBpAL0yFVjMnug4wr3jF88UrormZCg3g2eh6kKYkdrLYgqCpwMVGaDD27NnDkTIjIwNdKwkhTFQCqkrUq1dPkZ2HdMlMxplyHGCQbdryy5IPvTAVkBMzyJ7rjhpZkBzPzdT8hOVUg2qiSCsCYGmMowaOxZkz/KPb6dOnm6jQPTpxrRRXlbDZbEBEZGR0dDQGrcYY1gR16tS5dOmSUiVKho6YSpC/fxMHU21Oez7V79syElgT+ENsbCxujx80aJDAZdLS0lIM6Lx06VJRZakB9VQlYAiEC8jdunWDATq+JTpwo1ZgEXxMLdi5xtugisBHH32EezdhhCdqmTQuLs5ExYOQHHNPEaitKkEkM1nRoEGDgG+BCD6mpo1tAN9ak4XuZ4MeDTcWRURELF68WEJ9hgwZArePGTNGwr1KAXvktm3bqicBnJ+fj4EKWTFnzhyVyhWIIGOqozTfMzPlFCQDAg0hBvmvX7++ZDn7U6dOgc8BTfK+ffuk5SAT2qhKwPDXH03RAQ3sMmyQMTU3bgF8VRQjKAh6ampqu3bt4C2DmY8dOyanSjNnzjRRAczkBImWDA1UJX7++WccHXFADWkX4QgypqZP6QFfVWRyzS4hEhIScJm0e/fu8l3XsrIy6Hkht//85z8ysxILoirx+++/q1TE6dOn8UwLN1q2bKne2IMXwcRUh8uVRU2jOkp5mLd8+XJcg3nqqacExhzlxdatWyFDsKjGQUnVVpWAPh0nmIVAqVCeEqAFUy+YresOXHzrh4zhy4/0nb8/atZe+MAf8F+4CF9BAnp6PqaaqD/ZAb3zm2++ia8VBl7Kdpd4AFDLBcasrCy1VSXIORYhaNS8zfBlh4UYUXGoyFS7wxl3PO/JVce6TU/k/UAySAy3wI0lKduAqeVJaxkZOh0V+Z75KXamWiyWoUOHmqhFl2+++UbxJ4Jesk6dOsCbvXv3Kp45K9RWlYA39sknnzz99NPt27fnHaci2j4xW4gRFYdaTN1xsmDIksP4AD3m7B3/3Qn42R06V3S52GatdMAH/oD/wkX4ChJgSrgFbpRW4tmzZ1HguUmTJuoxafbs2SbKudHAtUpJSdFSVQIGxH/88cf8+fNHjBiBg3JWdOjUWT0jckB5phZbKyduycBKD1p8cG3SxTIbj1FLbXZIBonxLrgdMhFV6P79+3G/xe23367qjory8nKcT5A2NSsKAVSVgPc/fu2Bm59d1GzA+Mad+1/XrAWdrKxBseUbkRsKM/Xf/LLBnx3CdvSLxKwKu4jlckgMt+BPEzKBrATeuHHjRlwAHDx4sAb69T///LOJ2oys6oHPAKpKsBoRqvHLL79AlwKDdfBT/d0r2Yi8UJKpf2dZ+szbD1V8aFnyqTyJVYQb4XbIBLKCDHnTY3dsorb8aHaaFKOYqypKFihViYAYUQgUY2p6bmnvj/dB5V74OoW3u+cG3A6ZQFaQIWTrL5nVagWumKiwYSqthvsDDDCwFefeNygZW7ZsMVGqEiUlJWrk7w/aG1E4lGEqjKz7L0yCakVvOFFpV8D1g0wgK8gQsoXMfRNAZ4StToMGDaBXkl+iWEBrZ6JOzynekAdKVUJ7I4qCAkx1OJ2j1vwDFXpq1bHyCsU8YsjqKWqGCzJ3VJ8WBacYndM2bdpoLIReVb3ycgwM8emnnyqbM6pK3HLLLVqGxtDeiGKhAFOX7cmCqvRdoMDvhgHIELKFzJcnZpGLv/32G4YJ79GjR2CD2EBbDtWAyii40bi0tBTVBzRWldDYiBIgl6nnCsrR0dt1ShWlm50nC9AJhYJcVKwlXCZ95plnoFVTo0RReOyxx7AySmUYEFUJjY0oDXKZ+uqmNKjEG9+ny8yHA5A5FPHKdymvv/46uvkzZszQSdDdzMxM3C2/a9cu+bnl5eVhd6GqXKAvNDMiFCQ5B1lMPZFTAsVHzf7rUpGKW2wg825TE+reHIXLpBs2bFCvLAmYO3cuVKxTp07yh5Uo5quxqoRmRoQioCAoTloOspiKa1EzfpEYGEI4Hp28CExYr+F1gdrLzAGr1dq+fXuTTxBTsYDmOTIyMiIiQuZWWrHQzIhQBK5dSbtdOlMLSivcv5IZiVmF6m6iAUARzQe92vXtLVCo2mVJADh5OF8m53DzyJEjTZqHF9DYiFAQFCfNiNKZuibpIvxEnl+vUTQYKAiKg0I50rAEtKLgAJ86bp55Yjv3Z+pdthSJx1Q4gCF0OJYZuUFUJc6dOye5DllZop1rHRrRH6QzdfTa41DqlqMiTmw6KEgrDgqC4qBQjjS+Aa1c7ol0K8a8oH/MU++QVg1/OHv2LAr+SpPYw3gtMg8rP/nkk/379xfl20kwohwIMaI/SGRqibWy+8y998zcW1jG35IXFBSAl0DfjDN58mSxlIWCoDgotIR1h46fgFYu74GWwnERGPbCYc5C4pYlKKzbNG/ePNzMJVbzF1UlGjVqRFdukQBgKr5egXwVaESn0+l3r2rbtsuXLxc+D8NjRE5IZOqe04Xw43jsv/yS44cOHfL3nGI1k6A4KBSKZlznCGjlrCj1DV/ljRwoOgQLN2w2W4cOHeC55s+fL/wuf6oSEkCYKpCvAo3IwVQC4e2OPyPyQiJTl+w+D+VN53MY4QHIw8TGxlZWVpaWlpL4yPCLFFXodMp5hKKrFcEZ0KqiOMfd10+8gZEVNsC857HEAlvH+vXrZ2dnC7yFW1VCFBhM5eWrQCMSpnbp0gXanUQK27dvh58WKUX4zBqrEYVAIlNxInfTEZ6tk/A8+CTwbPTrhKyijpBDcawT1BwBrTA+QFFMX8Ytx8de42Zqsaz1PVYgXUaMGCEkMYwTMHKJIspsrEzl4KtAIxKmQkfv7yuAwEr6MyIvJDJ1xJdHobx9//JsW8Zj8r6PcfnyZbyekSFidg2Kg0KhaH8JfI8KVkWysFeNNCq8QwI1mHr+/HkMGP3HH3/wJhaoKiEQHExl5atAIxI6so5PgL74rcABAK8R/UEiUwd8cgDKO883CQfdfWZmpi8dMRgYQFSwJygOCoWi/SVgPdSK0YHME1s7K9wmcVYUE99LDaa6vIEkbr31Vm7XiqhK/Pzzz4qUy8tUBl8FGpGbqcRXFlhJXiP6g0Sm9prr3m9rFuD4s4IcKBPuNgqxwYLhLYB/56vba8KA5v7Cru/tLyTX0ES/fv06RS8XYkTCVBizubxTjQD4pZFRHH4lBFAcFAr8EZi+igBib0B0n+neeiPqmBQB+RXC2ED4XULePitTARPubZL50tVegpq232/a/ex1BlM7vrBMiBF5ff9GjRoJtyMUB4UCf4Tf4iGA2BsQkplKD3Ys9l7eh+QOEkjNE3iacGoAECFHdIUXTz/9tIkSMGf9Vo6qhD8I7P2Bo9j7CzSikFkq4fvZtWaqtN6fPv8vYecRb8fBytTTb97i9qhcVcVV5qZLiMAqFllZWehabdu2jfGVIqoSvuBlKuEoQqARCVPBfNnZ2eB1oO+xfft23KuAEOhyaN37CxyMEwAv6TG6pK2pSvOojr9BLbEmeM6QgEeFwa24FS8UwSeffGKiBK0ZgceUUpVggIOpDI4ixHpUvrNULu9pb5PgKVWtPSqBExwIGHqTV9alSxdpJbokzVIBSjL2eNb6J7axLB5BRquSqyEc4Pvfdttt8NQxMTHkorKqEnSwMpWVowhFZqlcXhdC4DqO1rNUAieNXdTBIPLWhHuIrNiYnMM9aewvoJUtJSGf5vIXr5vAEYNNWfz555/Iy/PnPasyqLeroKoEAYOpHBxFiJ35V4SpvEb0B3VXU100nz02Vmi8c3+Y9j+JC3EeOKwuZ6Wya/1CgIO5Rx991OWNv3L99dcXFRUpXhBhKi9HEWJXU1l7/7Vr1+K34CMKqaRkI6q7Q4U8holaUI2vDtwJILxQ3NyQeCbA0ghiAV4ISuv+9ttvqqpKAFMFchQhdocKjNzAiyLmA+PCFWJfcLOEFCrZiOru+mMd3dMhfDX10/8s7To5XtqGsYBj0SL36RqUwlJPVULsTmqBRqRvM/IH1ubWF+5dfzMSNd315xK2CZf3CQXuOcLF5ZpN2o1Yqkp0HbVBXCuTyqoSYiHEiNz7U8H3EL4kHoCd1C5tDzbAu2jY0n2q7sabOgZWF0oyXn75ZROlNHT27NlA16UKATmdslbj0ykaHxbrMjm+VlP3BrlOnToFHVkLCwuJ1NPDDz8c6OpUISxO/Lk0P4A7bs1+oGkwkhVVJcDdadCggclPpNxAIfRPUbsCEdQACBp0ZAVHB9UBDh8+/Nlnn0Hl27dvj1q6ekBYRKZwaRgoZoI3UEzQkfWFF16A2o4cOdJFrSqjGMGsWbMCXa8qaG9ECdB7BDXI1jf4VhCRNSUlBbwouqrE7t27oeZ169YVOAGpAQJiRLEIvqiUnq+ChKysqhLPPfec3lyr0I9K6QpckFj9k3XPnj0mKgoQo3qXLl3CmH7x8fGBqhsDYRHp1xW4wNs6J2uPHj1MflQllixZAl/ddNNNeogCi3A3fvMS24/+7P+GjHnySYlhi+jQXfR0hNpiBvbc1KKYQfnjamJsqYpMz6ZxJGvn25qkjW9bsnlaadxc8ile97rLXiz3waSCW1UCXCvcAzBjxgzt68ZAdnb2qlWrHn300XpX18dJ3+6jPwhNRQqEegIxlzdN8z2vZ1nsGecBWd8b3Zf1TJ/DrPo0ISuAiB07djRxqkrg2KBOnTpnzgSgkg6H46+//vrwww+7du3KWCO9qkbNLpN/DlmVH8QZFZTTKsxZnjA+CYuoPXvO8qSNeIXIp1/40x3wJ+8FU9LYLtYDsbaUX+FjTf7B5QyMyrdAVQmURdUytO+VK1c2bNgwatSo66+/3t9q/uAHH9Ze/o4X6qtRHuBXo4QEkMyfkGFOwnIqmE81mbLMtW/DxZJYz9bs04uegv9mRetiuZWoSsAAgDtlTk5Ow4YNIeXWrVtVrdLRo0fnzp3bq1cvVEngRlxcnOJGlI8gUPgt2PRh/rhIW0oc/eJJiqnmqZ3xv1T0ngh7YWanTnf2aR75WO/bAkhWVJXo3r27kMSff/45JG7Xrp16rtWUKVN42UnQtGlT0g9oL9PMAT2qpgvB6Y+GkMiSdpcTD/EVxQwkp1AuvNzGUai14qhLvKqE3W7H/chqnFchRYC3JJCpkyZNqnavmkYUBS0Ovl0wW+Fn99YPGcOXH+kzf3/UrL3wgT/gv3ARvoIEojK07FpDD9fjDT7l+zE5zFoLVklQldi7dy8GpFZPHd1qtQ4YMEAIU/2d3FfciGKhBVOVhXm/x50ig1Q8kgofW8YfeEyq5PelHrK+0ljLYcC///6LqhJilQdffPFFYMmwYcNUqpiLOiHcrVs3bpredddd6lVAJoKMqeaEzz3nS1c8S7vscJjPOUqrNZ9ZsbPcKceaZnbRbswqWVUiNzcX4yH8+OOPalQMASMTVGT1h6VLl6pXukwEE1NzKQefak354+FbPUMC07JbNJoNOHLkiBxVCTyB07ZtW/khfzmQmpoKTT4rTaE3yM/PV69omQgOpjq9ahOsx/mdtsLK7GSXo5rvTJj6/TD3sRYNyCpTVQL8njvvvBNymDp1qrIVI4A2FSO1s0LZIFmKIziYetqjKhFpz2VRFTv4Rkf6sBVRsHMNTmPZNdkbsG3bNpNsVYl9+/Zhq3zq1CkF64Y4f/48Lpu1b98exhg4QUGHUmFcVUIQMNVCxUT3xJZyVjorLOTjcrpP5Jg9HlWEo9hz0tWem+bxsahZWLU3sjidTvBFTEqoSowdOxbyGTJkiCIVI0hPT2/VqpWJOrOPAt67du2qU6cOoWmzZs20FGmXAL0zFfr9s9RcKesHpSacXoUJnFItihns/bsfyUdVsqKqRMuWLeUPMaFueDaQd31LOJKTkzH49b333ms2V0Whio+Pr1mzJjL1nXfeUao4lRAETCUsZNukMhyT2V1O84qx9K9K42YzslKJrMqqSri8ewZat24tSq7DH6DtxI5+2LBhvj+kr7/+GsYb8G1KikYHqSVD70wVCYd7POCw+gs+pQZZlVWVcFG7nHAs8cEHH8jMKi4uDrv4UaNG+RMdWLJkSbdu3WQWpAFCjKn8UJasiqtKIJKSkqCpi4yMFKUtw8C6deuwc3/99de59RT0c6KLA2HHVJeiZP3www9x/KdU3QjGjRsHOQ8ePFja7dDSY7cONVS2YoFCODLVpRBZL126hPHR9+0THQucF3l5eddddx1kvnnzZrH3ogwYMBX4qnjFAoUwZapLCbJiqCl/mhPysXLlSsi/VatWrOdbWAG9/IQJE+Au6PfXr1+vUsUCgvBlqkseWWEEqYaqBB3gWuGekvfee09IevCZcOMBeFHgS6lUq0AhrJnqkkFWlVQlGDh48GBERAS4VunpPAFOysrKhg0bBlW65pprhAf7DSKEO1NdksgKvrmJit5/8aKUAIuigGOMQYMGcaQxm83g1UGyJk2aJCcnq12lgMBgqhtiyaqeqoQv8vPz8XTepk2bWBPk5OTgqYHWrVvzNr3BC4OpHggnK6pKNG7cWA1VCVasWrUKV2uLi5nhCzIzM9u3d28Wu/XWW4k8S0jCYGoVhJAVvBwM1qeSqgQrwKPv3r277+p8SkpKixYt4Prdd9+dl5enWX0CAoOp1cBL1jVr1pjUVJXwh0OHDmHMwBMnTuAVGCvjhGv//v0tFmWiP+gZBlOZ4CBreXk57p3bsGGD9hV79dVXoej77rsP/t6+fTsqBz3yyCP6iWylKgymssAfWRcsWAAXu3btyr2MrhKuXLkCg2OowFtvvRUZGQl/PP/880pti9E/DKayw5esRFXCV1taM6xevRqXSeHft99+OyA/mEDBYKpfMMiKqhIDBw4MYJVQ3BrQu3fvAFYjIDCYygVC1o4dOxJViUBV5v333zdRilaAmjVrpqamBqomAYHBVB4Qsqq6GYUbDocDNwGC779x48bXXnsNXf6AVCZQMJjKj8TERBwadujQQfvAbDabbcSIEbh4i0JWBQUFuH3722+/1bgyAYTBVH6gqgQuaWoc8rKkpOT+++/H89l79+4l11Hku3nz5uEwk4owmMoDoiqRlpamsabAlStXoqKioMQbbrjh2LFqgQ7A6+/ZsyfOWGlQEz3AYCoP6KoSWgpgXLhwActq164dawzAv//+u0aNGuBaHT8uRdo56GAwlQuoKgFNGtl1rw1ZgZpAUCwFKOsvGUbA7Nu3r0rV0BUMpvqFP1UJtckKHX2zZs0gf2jOuWMHFRYWNm3aFFJ+/fXXildDbzCY6hccqhLqkRXcJgxPCY6UkONT69evx1Zfsy2IgYLBVHbwqkqoQdZff/21Xr16kOeIESME7tUC16p3794mH8HL0IPBVHYIUZVQlqwbN26sVasW5DZu3DiHQ4SwDowWalBgzA+EGAymsoCoSvAenVOKrF988QUG4JUWfnXixIkqBcjQDwymsgB6UjD8gw8+KCSxfLLOnTsXV2slB7U0m83ohK1bt05aDvqHwVQmJKhKSCYrjDLffvttuBH67q+++kpSfT345ptvTFQYVHrcyVCCwVQmpKlKSCCr3W5HNUr4YSgSLbVPnz4YL01+VjqEwdRqQFWJOnXqSFCVEEXW8vLyRx55BBLXr19/+/btUutbDdAJYFiXo0ePKpKhrmAwtRpwO4hkVQmBZLVYLP3794dk1113XVJSktTKsgDHEr169Qq94wAGU6tAVCUKCqTLfvKSlQiYtGjRQvFI0EVFRTgNvGbNGmVzDjgMpnqgoKoEB1nPnz+P2mXt27dXKb4uig40bdq0sLBQjfwDBYOpHhBVCUUOJbOS1VfARCVgMKIJEyaoV4T2MJjqhs1mQ1UJBTtNBln9CZioARhUoGsFDqKqBWkJg6luoKoEUErZ4/OErO3atWvQoIHJj4CJGpg8eTIU17Nnz5BxrQymqqUqgQCytm7dGpegnnjiCX8CJooDHgpDVslcUNAPDKZ6VCX69OmjRubr168n6mQan8HauHGjiYqoKmcqQz8Id6aqqipBBEwmTZqk8RksxIABA6DQV155RbMS1UO4M1U9VYkZM2aYaAImWp7BIkhNTa1Vq1ZEREQAA2oohbBmKqpKAJQN5QxODAaPYAiYBISs7777LpQYFRUV7K5VWDNVDVUJbgET7claXFx84403QolffvmlBsWph/BlqhqqEkIETLQna2xsLEbW4D4/qHOEL1P79u1rUlRVQriAifZkHThwIBQ3fvx4DcpSCWHKVMVVJYiASatWrYSMejUma1paGrpWhw4dUrsslRCOTFVcVUKagInGZMWglvfcc4+o44T6QTgyFVUl2rVrp4iqhBwBEy3JWlJS0rJlS99AG8GCsGOqsqoS8gVMtCTr999/j9u38/PzVS1IDYQdU1FV4s4775Q/v6iUgImWZMVDDdHR0aqWogbCi6kFBQVKqUps2bJFQQETzcgK3h5U+6qrrjpw4IB6paiB8GIqLthwq+UKwapVq2rUqGFSVMBEM7JOmTIFR9XB5VqFEVPBK0dVCZlqzQsXLsS9UXPmzFGqbghtyFpaWoobEb/44guVilADYcTUF154AcwzcuRIOZkQAROVzKwNWX/44QcoAgZCQaS2Gi5MPX78OOqOnjlzRloODAETZatHhzZkfeCBB6CIl156SaX8FUe4MBVVJSSHbvQVMFEVGpD15MmT6Frt379fjfwVR1gwdffu3SZKVUKa1f0JmKgKDciKhx3uvPPOoHCtwoKpdFUJseAQMFEbapMVXKs2bdpA/suWLVM8c8UR+kz1VZUQDl4BE7WhNll/+ukn7Cu0V4QTixBnamVlZYcOHcAYK1asEHuvQAETtaE2WYcOHSohtqH2CHGmoqoEkNVXVYIb0NFDM4znOgK+AVlVsp46dap27drgWv3111/K5qwsQpmp0N0j28RGJxUrYKIBVCXr9OnTIeeuXbsqG5hDWYQyU1FVAhpFUXdJEDDRBuqRtaysrG3btpDz0qVLFcxWWYQsU4WrStAhWcBEG6hH1ri4OMi2YcOGubm5CmarIEKWqaJUJRBEwOS9995Tr2IyoR5ZcXFkzJgxCuapIEKTqURVQrj6bUxMDO47kR8/VW2oRNYzZ87gDp7ExESl8lQQoclUUaoSdAGTVatWqV03RaASWWfOnAl53nHHHTp0rUKQqcnJyagqIeTwneICJppBDbKWl5djHFmMUKQrhCBThatKqCFgoiXUICueLwdn9NKlS77fWiyWPXv2KFKQWOiRqTanPSu6XnkSLTy001687o2S2Km+H7jurKgKaM+hKpGf8HnhOHhej0dPBEzeH9LB/NHg/HE14VMUc5/DnKn6EyoHNcg6fPhwyHD06NGM6xs3bmzRosVzzz2nSClioUempr/ZoXBcZNmu5eRKRXEuXPH3cZg9W05hxHnnnXeyekW2zANUYg9TiYDJ4mc6+WZoTY7V7GHlQ3Gygj9at25dyHD37t145cSJE/fddx96nEOHDpVfhATojKn28lPR9ZEudKYCuazJP9hSfq36ZOzyEivC5SjFZP5UJcqTNnoTu5lKBExu69cDGm+4XrxuApQNKYs2fejJ06mjOX9eKE7W2bNnQ26dO3cuLCyEcRTOMSPuuece+flLgI6YWrZrNb1hozPVFxXmLExmv3ICr9hsNtxQQleVcNrM2W+2p2VrqsxKJQImV7LTvPStOrWHPxXSTgcLlCWr1Wq9+eabITcMg0wHuFyKVFgs9MJUaDVzouu4m7cVzxeviOZmKtDqLNUWlsROJheJqgR9bSn79+XYRpbt+iqfIuVXUbVNXgETR2m+L1PTxjZwM7U4S6UnVQ8KkjUtLa1bt24mNoCzpVSFRUEvTAXkxAyy57rlnwuS47mZmp+wnMGwoqKixo0bm3xUJWB4WhL7vsvl3khFkdu0qH2VgAncjL1/adwc9ygX2nW314W9v1XFR1UN8slaUlLywQcf0Lt7XwRkO4SOmEqQv38TB1NtTjvVOkbaMhLIxWnTppk4VSXidm5Hpia98yRdwMThHUXQP5XZQRa1gQ45ZN2yZQsOjbgRkN26wcfUgp1rvA2qB0RVwt/htfXr19dt2RyZip4TQYmnEa32KUtYpODjaA8JZM3IyBg8eDAvRxEan9JBBB9TcRxJn0jiVpVAAZNazZp4mVo1ii3J2OOdltqMV2wpCXilPGmtYs8TCIglK5Cve/fuApm6Y8cODR6BgSBjqtcHqhpHpqenc6hK4B5hYOrStat9mXr6oyFUC/op/RYzVbp5amdFnykAEEtW8EThV40x4bgRGxuA+eYgY2pu3AL4qiimajzqT1WCIWDinS6oxtR0iqn2K6n0G+22IqqIvoo+U2AgkKwnTpw4deoU/n3+/PmHHnqIm6nLl3NNIKqEIGNq+pQe8FVFpmfpGQamJjZVCfCZRo0aZaIJmLAyNYXKjdHRl2UfpdrUOxR/roCAl6xA02bNms2cOZN+EVpNPNjDitmzZ2tUexqCiakO76SSo9SzeYJVVYJVwISVqV7nLMJRnO1JZivK8pmpDXZwkBVpCl/dfvvtjLsKCwujo6NRo5CBN954Q8PqexCMTPWwjVVVwp+ACeNehNPrn1GN6F1FMYPoi64qP6WmYCUroSkiNTXV98bdu3d37NiRwVSZUeikQQumni+0rkm6OHFLxvDlR/rM3x81ay984A/4L1yEryABPX1JyjZW79vpqMj30oioStB3UnIImDg9y6RMCsL1wnVv0aeoileMwZWCEAODrAyaAhgDAAKr1QqOaS0qrDHimvbdeY2oOFRkqq3Ssfnv3Mf++3e36Ym8H0gGieEWgZn7qkpIEzDxwulyWF3OSsZsa4iBkBX6egZNWQcALpoRb3/lm8hW/4cpazXroIgRRUEtpsYdzxu46CA+QK+Yv17dlPb1wUuHz1suF9uslQ74wB/wX7gIX0ECTAm3wI28mfuqSsgRMAkrAFmBkf5cJcYAgGnEjSeef2/+1Q0atGjZUr4RxUJ5puaX2F76JhUrPXTp4e8O55RX8DRUkACSQWK8C26HTDjSM1Ql5AuYhA98O33WAQCHES9cuPDss8/65izWiGKhMFP/zrL0W5AEFe398T74qdkdImLgQ2K4BW6E2yGTo9nFrMkYqhJKCZiEA7hpSgYAGhhRApRk6p8ZV3rM2QtVfPqrYxfMEsfXcCPcDplAVpChbwK6qoSyAiahDV6aItb8sk8DI0qAYkzde6YwarZ7pPL2jycr7bLkROB2yASyggwhW/pXdFUJNQRMQhUCaQpo3v8ltY0oDcow9eTl0p4fuRv8KT8rFmQUsoIMIVvInFwkqhJEwERa/N6wgnCaAmo2aae2EaVBAaaWWCuHLHGPoydsSlOwbYOsIEPIFjKHIlxeVQno7l955RWTmgImIYZTp06Bq8Th8jOQkpKiVNG+RpQMBZiKv5thnyeX2RQeKUKGkC1pqjFwEk74qy1gEpJITU0VQll/SwDSwDCiZMhl6sGzRVCJ7jP3puXKbd5ZAdlC5lDEfzf/hgQ1aSVgEsLgpizrEoAcECMCWyRnIpepj688CjVY8MdZmflwADKHIhq19SyQaClgEvJAyjZofjODrKx7AOQAjQhskZyDLKYmpOVD8X3n71e836cDMr/lqen4BsEzCMjRiBAGGvHutzdOnTaDtLLKDgBclBGBJ1AQFCctB1lMfWb1P1D2yr+y5WQiBB3u7AmvL7J+o4AImIQ2GEbEVvbJJ59UvCAoAgqC4qTdLp2pGZdLcQJCpk8nBMXWyqZRIzpP3JIhe7IjhJGVJTpGgcZGxKlMaUaUztT52zOh1PfjTknOQRSgICgOCtWmuGAENIT9+/cXFS0+iIwonam4F2HPaaHLD06n0+FwSJ5whYJwt4S028MBwFQcZQrnq1gjIiorKy97IUo+SY4RJTI1q9Dq3gk2d5+QNbeCggI8RoJo27athPjcUBAUB4VmqbxjN3hBmCqQr6KMiNi+fTvqH9EBxvWNAcoKOUaUyNSt/+RBeS98zb+YAaRUanoZioNCoWgpNQ4DMJjKy1fhRnRRpyx8OUqHwKPVko0okamzfjsD5X228xx/AV7Ex8fD00J/QR44MzNTVKFQHBQKRUurc8iDlakcfBVuRAAKViGgZbVarTCQg6Z0/Pjx5LqQllWyESUyFbfZ/pLKMzeWkZFBno1chIfEi2JVSqA43KIrpcZhAA6msvJVoBEBa9euxRy6dOni+y20pvgtDAN4s5JsRIlMxZXc4xd49slCO4rPwFAhwx+oWKZCcbjBQHR1wwO8TGXwVaARXbSO0Z//RPpJXrk5yUaUyNQ+89zrDXnFgo4fMPx96CMktKlCbGBAOPr169d5/BdCjAgDNryFw7WAzhMcEugtee0IxUGhfeazx7rjIoDYGxC4LVzUIirwFZ4EhgEmau3eJGxYQxBIq4YigKm3vbRMiBFJ1y/Wr2AFFIdnAcTeKJGp3Wa4T3U5xEyOkr3PSFMYGIgtFIpznyab4TvD5SyNm2ee2A4/xeteczn8Hqgyu8NQRpAoLKEEgb0/cBR7f4FGXL58Od6oiIKAfyPyQLs21TcuV3a2uA0DrD9HZ0VpPqegCh0V+f96vg3C4Oi84GUq4ShCoBEJUxWRPNa6Te0zX8Q4lQHSmwBELVmxDnEwplrhOJOjNMdFSVDkTI1ihAJG2F3OrOh65ok3hyFTGRxFCDQiYaoivb/W41ThbiMrpD28r9sI5EMdC6etaqqlzFHBUP9BnFv0VFWLGzZMZeUoQuwEDrexBHodWvv+wqfioMvwndogU6qiInH6TsXZbUXmqfcwxE+Avr50xPDT5oltwqdN5eAoQqARLRYLZsjh+xM2847otJ5PFbi8MXnyZHwAxnXy8KLUSnF5Yzbf8ka5R2SiKlia3W7Fsayzoiht0dMhz1RejiIkLDT6m4ci86mlpTw7+gQakaUOYm9ACFwyJv4+46dGluBEOVVCloxRc5URt5oub4lxqEOVqQI5ihC+7o9ziyZqd5Hvt2QsJ2SNSut1f4HbcMgkPxnlgAuFIvImarpKeIlkG062/8Ae0O97xSyrBqkYztc88Qb87+nQZarYndSi9lLR1/1jY2Oh7YRBHdgUw4AieIeqQozoD6rvTyU/OF+IinbGv7XRXo7Cf/Sg1Y7iHM9IwKtgcRyZWnrRbz7hBOH7U4GX/uwofCAXgP2pLjHbxQ8dOsR4qpEjR4ragevi2y5uv3KGCP7S5wFSPHNYEdbkH8t2fVme9B0OWIvXvQb/5VggCBOI3fMPranv3j+wppB1VFeg9vyLPYIDLWgBBQkTyCWcR3C8iuhU21l9ZsrLVB659bCFtHNUwEuwI/wLNhU+I85tRF4Ex9lUjmONZNmpKKaf77e2jJ3W5B9on5+wTS2J/QD+G1zS6CpBD0YUguA4749HxbelMwfsRJTa3elXFLnsZc4Ki/fDHq7DGKcyEHAjCkTQxFBhDb+BqtV+O3c2Bz+EfX/JCKwRBSJo4lKxhjRClRW/TGXbMHV2RTTFVLGSFaGMwBpRIIIp1p8B9aB/IwZB/NShS+WG3jTAC/0bMchiUhtQDzo3YpDF+TegKvRsxODTTjGgKnRrxODTozKgNvRpxKDU+DOgNnRoRK11U/OU0E01oA10ZcRg1aI2oA30Y0QVmUpwrqB8TdLFiVsyhi8/0mf+fl9peEigQTUMyEHAjagFUw0YkA+DqQaCA0HEVCf9qLSBcIPemVqRmZTvPtFPdkhFlCUsJsejlYL9ykllMzSgOPTLVCDj6Tdv8bOjr9phKZnIjhniPsuqNPsNKAv9MpUcgSqNm+NyeJb1bCkJVUemlADQk4oPYDKYqnPolKll3kN8FZl7mF/lpONXldkHmLc5K9wfv8NZh++3ToOpQQKdMhXPkBTFsMfkSJ/SwzyxTWX2QXKlLGEpfXjgboZpqMjYjYHW8GOeehceB7Dbiuh3WRY/rOpDGZADPTLV2yMLPeWMwXyoQCntzFO7M4YHZdlHybeWxSPISNfltDpK8+lMpQcIMqA36JGp5MSpkNNOFu+hv4pMT5hje24aXsFAVBiM0prsVUty2jEiEF6hjVONYwW6hp6ZGiGEPThOKEuoJm6Rv38T1Yi2cHlDphWvm0DcMkdpXmX2YQyg4i3LGKfqHTplqqf35zvr7K/1tdutJDBlScr2qhHqxHalcR9h9OrqORhM1Tt0ytSznEx12swVmX9RjjzOuTLDT7uq869s12qfGVmTy17sMpgaPNAjU13eU/mWxcNZv8UO3TzxBiFtKrnoKL5UtuurPComNTUD0NllMDV4oFOmEofdfuUE46sKT6BJz1SrZ5y6q1oUdm9sFffTWda9RY9KCbBm7GZjqrGpQNfQKVNdtLkna/L3SCMnNTPKmIQivr899xhecZizMExaWcKnJJ+S2HdIzmW7qNi/U+9wVfn+EY5i1UOIGZAD/TKVBOcnzlD1gJL/kpTHx17jnRAdWBQzmEZlN79RiwLnUItXvEiWAGwZ21zVYrAptkJrQA3o3DZu8T6GM+Seb/KJJlkaN5+ZhjbDZUtJqK6uFoE09XxbFX7V2KeiX+icqV44rG5P3z0hyjGadLoTcKRxVnry4cjBgF4RJEw1EPYwmGogOGAw1UBwwGCqgeDA/wNVvnDSMWH53wAAAABJRU5ErkJggg==)"
      ],
      "metadata": {
        "id": "BuEs4gzjy2Y0"
      }
    },
    {
      "cell_type": "markdown",
      "source": [
        "The mathematical model is as follows:\n",
        "\n",
        "Objective Funcion:\n",
        "    \n",
        "    Min 18x1A + 20x1B + 26x1C + 17x2A + 19x2B + 25x2C + 17x3A + 18x3B + 24x3C \n",
        "\n",
        "St:\n",
        "\n",
        "    x1A + x2A + x3A = 1\n",
        "    x1B + x2B + x3B = 1\n",
        "    x1C + x2C + x3C = 1\n",
        "\n",
        "    x1A + x1B + x1C = 1\n",
        "    x2A + x2B + x2C = 1\n",
        "    x3A + x3B + x3C = 1\n",
        "\n",
        "    x(i,j) = 1 if worker i is assigned to job j\n",
        "    x(i,j) = 0 otherwise\n"
      ],
      "metadata": {
        "id": "5ZE0VqvPy-tu"
      }
    },
    {
      "cell_type": "code",
      "execution_count": 1,
      "metadata": {
        "colab": {
          "base_uri": "https://localhost:8080/"
        },
        "id": "vuC7lI7pvEPD",
        "outputId": "a862d551-51bc-4144-c6a6-54ec05aa3d81"
      },
      "outputs": [
        {
          "output_type": "stream",
          "name": "stdout",
          "text": [
            "Looking in indexes: https://pypi.org/simple, https://us-python.pkg.dev/colab-wheels/public/simple/\n",
            "Collecting cplex\n",
            "  Downloading cplex-22.1.0.0-cp37-cp37m-manylinux1_x86_64.whl (43.3 MB)\n",
            "\u001b[K     |████████████████████████████████| 43.3 MB 1.2 MB/s \n",
            "\u001b[?25hInstalling collected packages: cplex\n",
            "Successfully installed cplex-22.1.0.0\n"
          ]
        }
      ],
      "source": [
        "import sys\n",
        "try:\n",
        "    import cplex\n",
        "except:\n",
        "    if hasattr(sys, 'real_prefix'):\n",
        "        !pip install cplex\n",
        "    else:\n",
        "        !pip install --user cplex"
      ]
    },
    {
      "cell_type": "code",
      "source": [
        "import sys\n",
        "try:\n",
        "    import docplex.mp\n",
        "except:\n",
        "    if hasattr(sys, 'real_prefix'):\n",
        "        !pip install docplex\n",
        "    else:\n",
        "        !pip install --user docplex"
      ],
      "metadata": {
        "colab": {
          "base_uri": "https://localhost:8080/"
        },
        "id": "MSjr5WTkGvXo",
        "outputId": "df7c5e61-0640-40cd-fb5b-f2176de3358e"
      },
      "execution_count": 2,
      "outputs": [
        {
          "output_type": "stream",
          "name": "stdout",
          "text": [
            "Looking in indexes: https://pypi.org/simple, https://us-python.pkg.dev/colab-wheels/public/simple/\n",
            "Collecting docplex\n",
            "  Downloading docplex-2.23.222.tar.gz (610 kB)\n",
            "\u001b[K     |████████████████████████████████| 610 kB 8.4 MB/s \n",
            "\u001b[?25hRequirement already satisfied: six in /usr/local/lib/python3.7/dist-packages (from docplex) (1.15.0)\n",
            "Building wheels for collected packages: docplex\n",
            "  Building wheel for docplex (setup.py) ... \u001b[?25l\u001b[?25hdone\n",
            "  Created wheel for docplex: filename=docplex-2.23.222-py3-none-any.whl size=662847 sha256=2a91df82f251f1d052b68d692ed209df8b67fbe73405e19037665b4f015dea99\n",
            "  Stored in directory: /root/.cache/pip/wheels/a7/c9/fb/cee5a89f304e77a39c466e625ac2830434b76eb8384999d116\n",
            "Successfully built docplex\n",
            "Installing collected packages: docplex\n",
            "Successfully installed docplex-2.23.222\n"
          ]
        }
      ]
    },
    {
      "cell_type": "code",
      "source": [
        "from docplex.mp.model import Model\n",
        "tm = Model(name='Assignment') "
      ],
      "metadata": {
        "id": "KYJm62kYGyQv"
      },
      "execution_count": 1,
      "outputs": []
    },
    {
      "cell_type": "markdown",
      "source": [
        "Parameters"
      ],
      "metadata": {
        "id": "x21Xfx6sG9Z0"
      }
    },
    {
      "cell_type": "code",
      "source": [
        "costs = {(1,4):18 , (1,5):20 , (1,6):26 , (2,4):17 , (2,5):19 , (2,6):25 , (3,4):17 , (3,5):18 , (3,6):24 }\n",
        "\n",
        "worker = range(1,4)\n",
        "job = range(4,7)"
      ],
      "metadata": {
        "id": "UX7yezt0G7D5"
      },
      "execution_count": 2,
      "outputs": []
    },
    {
      "cell_type": "markdown",
      "source": [
        "Decision Variables"
      ],
      "metadata": {
        "id": "dHukv23rIG2h"
      }
    },
    {
      "cell_type": "code",
      "source": [
        "x = {(i,j): tm.continuous_var(name='x_{0}_{1}'.format(i,j)) for i in worker for j in job}"
      ],
      "metadata": {
        "id": "lvZ-7Xn_IJzV"
      },
      "execution_count": 3,
      "outputs": []
    },
    {
      "cell_type": "markdown",
      "source": [
        "Constraints"
      ],
      "metadata": {
        "id": "HOGongN6ITh4"
      }
    },
    {
      "cell_type": "code",
      "source": [
        "# Each worker is assigned to exactly one job constraints\n",
        "for i in worker:\n",
        "    tm.add_constraint(tm.sum(x.get((i,j),0) for j in job) == 1)\n",
        "\n",
        "# Each job is filled by exactly one person constraints\n",
        "for j in job:\n",
        "    tm.add_constraint(tm.sum(x.get((i,j),0) for i in worker) == 1)"
      ],
      "metadata": {
        "id": "RcZoD41qIWOk"
      },
      "execution_count": 4,
      "outputs": []
    },
    {
      "cell_type": "markdown",
      "source": [
        "Objective Function"
      ],
      "metadata": {
        "id": "mGqeCM19JiZT"
      }
    },
    {
      "cell_type": "code",
      "source": [
        "tm.minimize(tm.sum(x.get((i,j),0)*costs.get((i,j), float('inf')) for i in worker for j in job))\n",
        "\n",
        "tm.print_information()"
      ],
      "metadata": {
        "colab": {
          "base_uri": "https://localhost:8080/"
        },
        "id": "7jzsjk1RJnBp",
        "outputId": "dbb91205-a671-45b9-abc9-cb5c296e10d5"
      },
      "execution_count": 5,
      "outputs": [
        {
          "output_type": "stream",
          "name": "stdout",
          "text": [
            "Model: Assignment\n",
            " - number of variables: 9\n",
            "   - binary=0, integer=0, continuous=9\n",
            " - number of constraints: 6\n",
            "   - linear=6\n",
            " - parameters: defaults\n",
            " - objective: minimize\n",
            " - problem type is: LP\n"
          ]
        }
      ]
    },
    {
      "cell_type": "markdown",
      "source": [
        "Final Results"
      ],
      "metadata": {
        "id": "BvQCVTVqJu1-"
      }
    },
    {
      "cell_type": "code",
      "source": [
        "tms = tm.solve()\n",
        "assert tms\n",
        "tms.display()"
      ],
      "metadata": {
        "colab": {
          "base_uri": "https://localhost:8080/"
        },
        "id": "S9OVttX8Jw0M",
        "outputId": "b0d35251-f06d-49a6-fd1e-5cd229531220"
      },
      "execution_count": 6,
      "outputs": [
        {
          "output_type": "stream",
          "name": "stdout",
          "text": [
            "solution for: Assignment\n",
            "objective: 61.000\n",
            "x_1_5 = 1.000\n",
            "x_2_4 = 1.000\n",
            "x_3_6 = 1.000\n"
          ]
        }
      ]
    }
  ]
}